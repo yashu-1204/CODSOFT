{
  "nbformat": 4,
  "nbformat_minor": 0,
  "metadata": {
    "colab": {
      "provenance": []
    },
    "kernelspec": {
      "name": "python3",
      "display_name": "Python 3"
    },
    "language_info": {
      "name": "python"
    }
  },
  "cells": [
    {
      "cell_type": "code",
      "execution_count": 3,
      "metadata": {
        "colab": {
          "base_uri": "https://localhost:8080/"
        },
        "id": "aon2L1hfBGi4",
        "outputId": "37b64fd4-cab2-4df0-8393-577f8d524ae4"
      },
      "outputs": [
        {
          "output_type": "stream",
          "name": "stdout",
          "text": [
            "Enter your genre preference (Action, Horror, Comedy, Drama or Fiction): Fiction\n",
            "Recommended Movies for Fiction lovers:\n",
            "Iron Man\n",
            "The Incredible Hulk\n",
            "Thor\n",
            "Captain America: The First Avenger\n",
            "Guardians of the Galaxy\n",
            "Avengers: Age of Ultron\n",
            "Avengers: Infinity War\n",
            "Avengers: Endgame\n"
          ]
        }
      ],
      "source": [
        "class Movie:\n",
        "    def __init__(self, title, genre):\n",
        "        self.title = title\n",
        "        self.genre = genre\n",
        "\n",
        "class MovieRecommendationSystem:\n",
        "    def __init__(self):\n",
        "        self.movies = []\n",
        "\n",
        "    def add_movie(self, title, genre):\n",
        "        movie = Movie(title, genre)\n",
        "        self.movies.append(movie)\n",
        "\n",
        "    def recommend_movies(self, user_genre_preference):\n",
        "        recommended_movies = []\n",
        "\n",
        "        for movie in self.movies:\n",
        "            if movie.genre.lower() == user_genre_preference.lower():\n",
        "                recommended_movies.append(movie)\n",
        "\n",
        "        return recommended_movies\n",
        "\n",
        "if __name__ == \"__main__\":\n",
        "    recommendation_system = MovieRecommendationSystem()\n",
        "\n",
        "    # Action movies\n",
        "    recommendation_system.add_movie(\"Die Hard\", \"Action\")\n",
        "    recommendation_system.add_movie(\"Mission Impossible\", \"Action\")\n",
        "    recommendation_system.add_movie(\"The Extraction\", \"Action\")\n",
        "    recommendation_system.add_movie(\"The Expandables\", \"Action\")\n",
        "    recommendation_system.add_movie(\"Venom\", \"Action\")\n",
        "    recommendation_system.add_movie(\"X-Men\", \"Action\")\n",
        "    recommendation_system.add_movie(\"Terminator 2: Judgment Day \", \"Action\")\n",
        "\n",
        "    # Comedy movies\n",
        "    recommendation_system.add_movie(\"Game Night\", \"Comedy\")\n",
        "    recommendation_system.add_movie(\"Free Guy\", \"Comedy\")\n",
        "    recommendation_system.add_movie(\"The Mask\", \"Comedy\")\n",
        "    recommendation_system.add_movie(\"Ghostbusters\", \"Comedy\")\n",
        "    recommendation_system.add_movie(\"Booksmart\", \"Comedy\")\n",
        "    recommendation_system.add_movie(\"Vacation Friends\", \"Comedy\")\n",
        "    recommendation_system.add_movie(\"Spy\", \"Comedy\")\n",
        "    recommendation_system.add_movie(\"The French Dispatch\", \"Comedy\")\n",
        "\n",
        "    # Drama movies\n",
        "    recommendation_system.add_movie(\"Dune\", \"Drama\")\n",
        "    recommendation_system.add_movie(\"Oppenheimer\", \"Drama\")\n",
        "    recommendation_system.add_movie(\"The Power of the Dog\", \"Drama\")\n",
        "    recommendation_system.add_movie(\"CODA\", \"Drama\")\n",
        "    recommendation_system.add_movie(\"Belfast\", \"Drama\")\n",
        "    recommendation_system.add_movie(\"The Lost Daughter\", \"Drama\")\n",
        "    recommendation_system.add_movie(\"Spencer\", \"Drama\")\n",
        "    recommendation_system.add_movie(\"Dunkirk\", \"Drama\")\n",
        "\n",
        "    # Horror movies\n",
        "    recommendation_system.add_movie(\"IT\", \"Horror\")\n",
        "    recommendation_system.add_movie(\"The Conjuring\", \"Horror\")\n",
        "    recommendation_system.add_movie(\"Evil Dead Rise\", \"Horror\")\n",
        "    recommendation_system.add_movie(\"Annabelle\", \"Horror\")\n",
        "    recommendation_system.add_movie(\"The Pope's Exorcist\", \"Horror\")\n",
        "    recommendation_system.add_movie(\"Insidious\", \"Horror\")\n",
        "    recommendation_system.add_movie(\"American Mummy\", \"Horror\")\n",
        "    recommendation_system.add_movie(\"The Nun\", \"Horror\")\n",
        "\n",
        "    #Fiction\n",
        "    recommendation_system.add_movie(\"Iron Man\", \"Fiction\")\n",
        "    recommendation_system.add_movie(\"The Incredible Hulk\", \"Fiction\")\n",
        "    recommendation_system.add_movie(\"Thor\", \"Fiction\")\n",
        "    recommendation_system.add_movie(\"Captain America: The First Avenger\", \"Fiction\")\n",
        "    recommendation_system.add_movie(\"Guardians of the Galaxy\", \"Fiction\")\n",
        "    recommendation_system.add_movie(\"Avengers: Age of Ultron\", \"Fiction\")\n",
        "    recommendation_system.add_movie(\"Avengers: Infinity War\", \"Fiction\")\n",
        "    recommendation_system.add_movie(\"Avengers: Endgame\", \"Fiction\")\n",
        "\n",
        "\n",
        "    user_preference = input(\"Enter your genre preference (Action, Horror, Comedy, Drama or Fiction): \")\n",
        "\n",
        "    recommended_movies = recommendation_system.recommend_movies(user_preference)\n",
        "\n",
        "    if recommended_movies:\n",
        "        print(f\"Recommended Movies for {user_preference} lovers:\")\n",
        "        for movie in recommended_movies:\n",
        "            print(movie.title)\n",
        "    else:\n",
        "        print(f\"No {user_preference} movies found in the database.\")"
      ]
    }
  ]
}