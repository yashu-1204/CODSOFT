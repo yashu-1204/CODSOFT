{
  "cells": [
    {
      "cell_type": "code",
      "execution_count": null,
      "metadata": {
        "id": "i18uLxS2FicV"
      },
      "outputs": [],
      "source": [
        "from nltk.chat.util import Chat, reflections"
      ]
    },
    {
      "cell_type": "code",
      "execution_count": null,
      "metadata": {
        "id": "WURkcYG8DSga"
      },
      "outputs": [],
      "source": [
        "pairs = [\n",
        "    [\n",
        "        r\"(.*)Robot\",\n",
        "        [\"hi Human, how can I help you \"]\n",
        "    ],\n",
        "    [\n",
        "        r\"(.*)question\",\n",
        "        [\"I am here for your help\"]\n",
        "    ],\n",
        "\n",
        "    [\n",
        "        r\"(.*)developed \",\n",
        "        [\"Boomika created me using Python\"]\n",
        "    ],\n",
        "    [\n",
        "        r\"(.*)alive \",\n",
        "        [\"I am Robot, I am just a computer program.\"]\n",
        "    ],\n",
        "    [\n",
        "        r\"(.*)my name(.*)\",\n",
        "        [\"Hello %2, How are you today ?\",]\n",
        "    ],\n",
        "    [\n",
        "        r\"(.*)help(.*) \",\n",
        "        [\"I can help you \",]\n",
        "    ],\n",
        "    [\n",
        "        r\"what(.*)name?\",\n",
        "        [\"My name is AI Robot, but you can just call me robot and I'm a chatbot .\",]\n",
        "    ],\n",
        "    [\n",
        "        r\"how (.*) you ?\",\n",
        "        [\"I'm doing very well\", \"i am great !\"]\n",
        "    ],\n",
        "    [\n",
        "        r\"sorry (.*)\",\n",
        "        [\"Its alright\",\"Its OK, never mind that\",]\n",
        "    ],\n",
        "    [\n",
        "        r\"i'm (.*) (good|well|okay|ok)\",\n",
        "        [\"Nice to hear that\",\"Alright, great !\",]\n",
        "    ],\n",
        "    [\n",
        "        r\"(hi|hey|hello|hola|holla)(.*)\",\n",
        "        [\"Hello\", \"Hey there\",]\n",
        "    ],\n",
        "    [\n",
        "        r\"what (.*) want ?\",\n",
        "        [\"Make me an offer I can't refuse\",]\n",
        "\n",
        "    ],\n",
        "    [\n",
        "        r\"(.*)created(.*)\",\n",
        "        [\"Boomika created me using Python's NLTK library \",\"Its top secret........... ;)\",]\n",
        "    ],\n",
        "    [\n",
        "        r\"(.*) (location|city) ?\",\n",
        "        ['TamilNadu , India',]\n",
        "    ],\n",
        "    [\n",
        "        r\"(.*)raining in (.*)\",\n",
        "        [\"Yes, rain in the past 4 days here in %2\",\"In %2 there is a 80% chance of rain\",]\n",
        "    ],\n",
        "    [\n",
        "        r\"how (.*) health (.*)\",\n",
        "        [\"Health is very important, but I am a computer, so I don't need to worry about my health \",]\n",
        "    ],\n",
        "    [\n",
        "        r\"(.*)(sports|game|sport)(.*)\",\n",
        "        [\"I'm a very big fan of Cricket\",]\n",
        "    ],\n",
        "    [\n",
        "        r\"who (.*) (Cricketer|Batsman)?\",\n",
        "        [\"Mahendra Singh Dhoni \"]\n",
        "    ],\n",
        "    [\n",
        "        r\"quit\",\n",
        "        [\"Bye for now. See you soon :) \",\"It was nice talking to you. See you soon :)\"]\n",
        "    ],\n",
        "    [\n",
        "        r\"(.*)\",\n",
        "        ['That is nice to hear']\n",
        "    ],\n",
        "\n",
        "]"
      ]
    },
    {
      "cell_type": "code",
      "execution_count": null,
      "metadata": {
        "colab": {
          "base_uri": "https://localhost:8080/"
        },
        "id": "KrT2u0MKDbLZ",
        "outputId": "4743595c-0d59-4d1b-e367-9836a0d1da5d"
      },
      "outputs": [
        {
          "name": "stdout",
          "output_type": "stream",
          "text": [
            "{'i am': 'you are', 'i was': 'you were', 'i': 'you', \"i'm\": 'you are', \"i'd\": 'you would', \"i've\": 'you have', \"i'll\": 'you will', 'my': 'your', 'you are': 'I am', 'you were': 'I was', \"you've\": 'I have', \"you'll\": 'I will', 'your': 'my', 'yours': 'mine', 'you': 'me', 'me': 'you'}\n"
          ]
        }
      ],
      "source": [
        "print(reflections)"
      ]
    },
    {
      "cell_type": "code",
      "execution_count": null,
      "metadata": {
        "id": "t2hYd1dYDdHx"
      },
      "outputs": [],
      "source": [
        "chat = Chat(pairs, reflections)"
      ]
    },
    {
      "cell_type": "code",
      "execution_count": null,
      "metadata": {
        "id": "SwiB4jMfDgk-"
      },
      "outputs": [],
      "source": [
        "print(chat)"
      ]
    },
    {
      "cell_type": "code",
      "execution_count": null,
      "metadata": {
        "colab": {
          "background_save": true,
          "base_uri": "https://localhost:8080/"
        },
        "id": "kHXu6n-1EZ0p",
        "outputId": "21f6f181-9594-466c-903a-fbbf29f1d6bd"
      },
      "outputs": [
        {
          "name": "stdout",
          "output_type": "stream",
          "text": [
            "Hello\n",
            "My name is AI Robot, but you can just call me robot and I'm a chatbot .\n",
            "I'm a very big fan of Cricket\n",
            "That is nice to hear\n"
          ]
        }
      ],
      "source": [
        "chat.converse()"
      ]
    }
  ],
  "metadata": {
    "colab": {
      "provenance": []
    },
    "kernelspec": {
      "display_name": "Python 3",
      "name": "python3"
    },
    "language_info": {
      "name": "python"
    }
  },
  "nbformat": 4,
  "nbformat_minor": 0
}